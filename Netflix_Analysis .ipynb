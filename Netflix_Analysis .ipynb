{
 "cells": [
  {
   "cell_type": "markdown",
   "id": "9251c7df",
   "metadata": {},
   "source": [
    "# Netflix_Dataset_Analysis"
   ]
  },
  {
   "cell_type": "markdown",
   "id": "1282d1a0",
   "metadata": {},
   "source": [
    "Task 1 : What is the most popular realase year for movies on Netflix\n",
    "\n",
    "Task 2 : What year did netflix add the most content to its platform ?\n",
    "\n",
    "Task 3 : Independent of year, what is the most popular month to add new content?\n",
    "\n",
    "Task 4 : What is the movie with longest title\n",
    "\n",
    "Task 5 : Most frequent actor/actoress in Netflix\n",
    "\n",
    "Task 6 : How many movies are there compared to TV shows?\n",
    "\n",
    "Task 7 : Which countries contribute the most content to Netflix?\n",
    "\n",
    "Task 8 :  Which genres are more prevalent on Netflix?\n"
   ]
  },
  {
   "cell_type": "code",
   "execution_count": 173,
   "id": "931f4f80",
   "metadata": {},
   "outputs": [],
   "source": [
    "#Import necessary libararies \n",
    "import pandas as pd\n",
    "import matplotlib.pyplot  as plt"
   ]
  },
  {
   "cell_type": "markdown",
   "id": "06b8eca8",
   "metadata": {},
   "source": [
    "## Task 1 : What is the most popular realase year for movies on Netflix"
   ]
  },
  {
   "cell_type": "code",
   "execution_count": 14,
   "id": "11018bdc",
   "metadata": {},
   "outputs": [],
   "source": [
    "df = pd.read_csv('/Users/sakshichavan/Downloads/netflix_titles.csv')\n"
   ]
  },
  {
   "cell_type": "code",
   "execution_count": 17,
   "id": "d9dcb9ee",
   "metadata": {},
   "outputs": [],
   "source": [
    "movie_df = df[df['type'] == 'Movie']"
   ]
  },
  {
   "cell_type": "code",
   "execution_count": 26,
   "id": "cc21dcce",
   "metadata": {
    "scrolled": true
   },
   "outputs": [
    {
     "name": "stderr",
     "output_type": "stream",
     "text": [
      "<ipython-input-26-944a019553b7>:1: SettingWithCopyWarning: \n",
      "A value is trying to be set on a copy of a slice from a DataFrame.\n",
      "Try using .loc[row_indexer,col_indexer] = value instead\n",
      "\n",
      "See the caveats in the documentation: https://pandas.pydata.org/pandas-docs/stable/user_guide/indexing.html#returning-a-view-versus-a-copy\n",
      "  movie_df['count'] = 1\n"
     ]
    }
   ],
   "source": [
    "movie_df['count'] = 1 \n",
    "release_yr_summed = movie_df.groupby(['release_year']).sum().reset_index()[['release_year','count']]"
   ]
  },
  {
   "cell_type": "code",
   "execution_count": 27,
   "id": "206639b2",
   "metadata": {
    "scrolled": true
   },
   "outputs": [
    {
     "data": {
      "text/html": [
       "<div>\n",
       "<style scoped>\n",
       "    .dataframe tbody tr th:only-of-type {\n",
       "        vertical-align: middle;\n",
       "    }\n",
       "\n",
       "    .dataframe tbody tr th {\n",
       "        vertical-align: top;\n",
       "    }\n",
       "\n",
       "    .dataframe thead th {\n",
       "        text-align: right;\n",
       "    }\n",
       "</style>\n",
       "<table border=\"1\" class=\"dataframe\">\n",
       "  <thead>\n",
       "    <tr style=\"text-align: right;\">\n",
       "      <th></th>\n",
       "      <th>release_year</th>\n",
       "      <th>count</th>\n",
       "    </tr>\n",
       "  </thead>\n",
       "  <tbody>\n",
       "    <tr>\n",
       "      <th>69</th>\n",
       "      <td>2018</td>\n",
       "      <td>767</td>\n",
       "    </tr>\n",
       "    <tr>\n",
       "      <th>68</th>\n",
       "      <td>2017</td>\n",
       "      <td>767</td>\n",
       "    </tr>\n",
       "    <tr>\n",
       "      <th>67</th>\n",
       "      <td>2016</td>\n",
       "      <td>658</td>\n",
       "    </tr>\n",
       "    <tr>\n",
       "      <th>70</th>\n",
       "      <td>2019</td>\n",
       "      <td>633</td>\n",
       "    </tr>\n",
       "    <tr>\n",
       "      <th>71</th>\n",
       "      <td>2020</td>\n",
       "      <td>517</td>\n",
       "    </tr>\n",
       "    <tr>\n",
       "      <th>...</th>\n",
       "      <td>...</td>\n",
       "      <td>...</td>\n",
       "    </tr>\n",
       "    <tr>\n",
       "      <th>12</th>\n",
       "      <td>1961</td>\n",
       "      <td>1</td>\n",
       "    </tr>\n",
       "    <tr>\n",
       "      <th>14</th>\n",
       "      <td>1963</td>\n",
       "      <td>1</td>\n",
       "    </tr>\n",
       "    <tr>\n",
       "      <th>17</th>\n",
       "      <td>1966</td>\n",
       "      <td>1</td>\n",
       "    </tr>\n",
       "    <tr>\n",
       "      <th>5</th>\n",
       "      <td>1947</td>\n",
       "      <td>1</td>\n",
       "    </tr>\n",
       "    <tr>\n",
       "      <th>4</th>\n",
       "      <td>1946</td>\n",
       "      <td>1</td>\n",
       "    </tr>\n",
       "  </tbody>\n",
       "</table>\n",
       "<p>73 rows × 2 columns</p>\n",
       "</div>"
      ],
      "text/plain": [
       "    release_year  count\n",
       "69          2018    767\n",
       "68          2017    767\n",
       "67          2016    658\n",
       "70          2019    633\n",
       "71          2020    517\n",
       "..           ...    ...\n",
       "12          1961      1\n",
       "14          1963      1\n",
       "17          1966      1\n",
       "5           1947      1\n",
       "4           1946      1\n",
       "\n",
       "[73 rows x 2 columns]"
      ]
     },
     "execution_count": 27,
     "metadata": {},
     "output_type": "execute_result"
    }
   ],
   "source": [
    "release_yr_summed.sort_values(['count'], ascending = False)"
   ]
  },
  {
   "cell_type": "markdown",
   "id": "48d42a8c",
   "metadata": {},
   "source": [
    "## Task 2 : What year did netflix add the most content to its platform ?"
   ]
  },
  {
   "cell_type": "code",
   "execution_count": 34,
   "id": "4fbff625",
   "metadata": {
    "scrolled": true
   },
   "outputs": [
    {
     "data": {
      "text/html": [
       "<div>\n",
       "<style scoped>\n",
       "    .dataframe tbody tr th:only-of-type {\n",
       "        vertical-align: middle;\n",
       "    }\n",
       "\n",
       "    .dataframe tbody tr th {\n",
       "        vertical-align: top;\n",
       "    }\n",
       "\n",
       "    .dataframe thead th {\n",
       "        text-align: right;\n",
       "    }\n",
       "</style>\n",
       "<table border=\"1\" class=\"dataframe\">\n",
       "  <thead>\n",
       "    <tr style=\"text-align: right;\">\n",
       "      <th></th>\n",
       "      <th>show_id</th>\n",
       "      <th>type</th>\n",
       "      <th>title</th>\n",
       "      <th>director</th>\n",
       "      <th>cast</th>\n",
       "      <th>country</th>\n",
       "      <th>date_added</th>\n",
       "      <th>release_year</th>\n",
       "      <th>rating</th>\n",
       "      <th>duration</th>\n",
       "      <th>listed_in</th>\n",
       "      <th>description</th>\n",
       "      <th>new_date</th>\n",
       "      <th>date_added_yr</th>\n",
       "    </tr>\n",
       "  </thead>\n",
       "  <tbody>\n",
       "    <tr>\n",
       "      <th>0</th>\n",
       "      <td>s1</td>\n",
       "      <td>Movie</td>\n",
       "      <td>Dick Johnson Is Dead</td>\n",
       "      <td>Kirsten Johnson</td>\n",
       "      <td>NaN</td>\n",
       "      <td>United States</td>\n",
       "      <td>September 25, 2021</td>\n",
       "      <td>2020</td>\n",
       "      <td>PG-13</td>\n",
       "      <td>90 min</td>\n",
       "      <td>Documentaries</td>\n",
       "      <td>As her father nears the end of his life, filmm...</td>\n",
       "      <td>2021-09-25</td>\n",
       "      <td>2021.0</td>\n",
       "    </tr>\n",
       "    <tr>\n",
       "      <th>1</th>\n",
       "      <td>s2</td>\n",
       "      <td>TV Show</td>\n",
       "      <td>Blood &amp; Water</td>\n",
       "      <td>NaN</td>\n",
       "      <td>Ama Qamata, Khosi Ngema, Gail Mabalane, Thaban...</td>\n",
       "      <td>South Africa</td>\n",
       "      <td>September 24, 2021</td>\n",
       "      <td>2021</td>\n",
       "      <td>TV-MA</td>\n",
       "      <td>2 Seasons</td>\n",
       "      <td>International TV Shows, TV Dramas, TV Mysteries</td>\n",
       "      <td>After crossing paths at a party, a Cape Town t...</td>\n",
       "      <td>2021-09-24</td>\n",
       "      <td>2021.0</td>\n",
       "    </tr>\n",
       "    <tr>\n",
       "      <th>2</th>\n",
       "      <td>s3</td>\n",
       "      <td>TV Show</td>\n",
       "      <td>Ganglands</td>\n",
       "      <td>Julien Leclercq</td>\n",
       "      <td>Sami Bouajila, Tracy Gotoas, Samuel Jouy, Nabi...</td>\n",
       "      <td>NaN</td>\n",
       "      <td>September 24, 2021</td>\n",
       "      <td>2021</td>\n",
       "      <td>TV-MA</td>\n",
       "      <td>1 Season</td>\n",
       "      <td>Crime TV Shows, International TV Shows, TV Act...</td>\n",
       "      <td>To protect his family from a powerful drug lor...</td>\n",
       "      <td>2021-09-24</td>\n",
       "      <td>2021.0</td>\n",
       "    </tr>\n",
       "  </tbody>\n",
       "</table>\n",
       "</div>"
      ],
      "text/plain": [
       "  show_id     type                 title         director  \\\n",
       "0      s1    Movie  Dick Johnson Is Dead  Kirsten Johnson   \n",
       "1      s2  TV Show         Blood & Water              NaN   \n",
       "2      s3  TV Show             Ganglands  Julien Leclercq   \n",
       "\n",
       "                                                cast        country  \\\n",
       "0                                                NaN  United States   \n",
       "1  Ama Qamata, Khosi Ngema, Gail Mabalane, Thaban...   South Africa   \n",
       "2  Sami Bouajila, Tracy Gotoas, Samuel Jouy, Nabi...            NaN   \n",
       "\n",
       "           date_added  release_year rating   duration  \\\n",
       "0  September 25, 2021          2020  PG-13     90 min   \n",
       "1  September 24, 2021          2021  TV-MA  2 Seasons   \n",
       "2  September 24, 2021          2021  TV-MA   1 Season   \n",
       "\n",
       "                                           listed_in  \\\n",
       "0                                      Documentaries   \n",
       "1    International TV Shows, TV Dramas, TV Mysteries   \n",
       "2  Crime TV Shows, International TV Shows, TV Act...   \n",
       "\n",
       "                                         description   new_date  date_added_yr  \n",
       "0  As her father nears the end of his life, filmm... 2021-09-25         2021.0  \n",
       "1  After crossing paths at a party, a Cape Town t... 2021-09-24         2021.0  \n",
       "2  To protect his family from a powerful drug lor... 2021-09-24         2021.0  "
      ]
     },
     "execution_count": 34,
     "metadata": {},
     "output_type": "execute_result"
    }
   ],
   "source": [
    "df['new_date'] = pd.to_datetime(df['date_added'])\n",
    "\n",
    "df['date_added_yr'] = df['new_date'].dt.year\n",
    "\n",
    "df.head(3)"
   ]
  },
  {
   "cell_type": "code",
   "execution_count": 36,
   "id": "97def496",
   "metadata": {},
   "outputs": [],
   "source": [
    "df['count'] = 1 \n",
    "date_added_yr_summed = df.groupby(['date_added_yr']).sum().reset_index()[['date_added_yr','count']]"
   ]
  },
  {
   "cell_type": "code",
   "execution_count": 38,
   "id": "e8b8b083",
   "metadata": {},
   "outputs": [
    {
     "data": {
      "text/html": [
       "<div>\n",
       "<style scoped>\n",
       "    .dataframe tbody tr th:only-of-type {\n",
       "        vertical-align: middle;\n",
       "    }\n",
       "\n",
       "    .dataframe tbody tr th {\n",
       "        vertical-align: top;\n",
       "    }\n",
       "\n",
       "    .dataframe thead th {\n",
       "        text-align: right;\n",
       "    }\n",
       "</style>\n",
       "<table border=\"1\" class=\"dataframe\">\n",
       "  <thead>\n",
       "    <tr style=\"text-align: right;\">\n",
       "      <th></th>\n",
       "      <th>date_added_yr</th>\n",
       "      <th>count</th>\n",
       "    </tr>\n",
       "  </thead>\n",
       "  <tbody>\n",
       "    <tr>\n",
       "      <th>11</th>\n",
       "      <td>2019.0</td>\n",
       "      <td>2016</td>\n",
       "    </tr>\n",
       "    <tr>\n",
       "      <th>12</th>\n",
       "      <td>2020.0</td>\n",
       "      <td>1879</td>\n",
       "    </tr>\n",
       "    <tr>\n",
       "      <th>10</th>\n",
       "      <td>2018.0</td>\n",
       "      <td>1649</td>\n",
       "    </tr>\n",
       "    <tr>\n",
       "      <th>13</th>\n",
       "      <td>2021.0</td>\n",
       "      <td>1498</td>\n",
       "    </tr>\n",
       "    <tr>\n",
       "      <th>9</th>\n",
       "      <td>2017.0</td>\n",
       "      <td>1188</td>\n",
       "    </tr>\n",
       "    <tr>\n",
       "      <th>8</th>\n",
       "      <td>2016.0</td>\n",
       "      <td>429</td>\n",
       "    </tr>\n",
       "    <tr>\n",
       "      <th>7</th>\n",
       "      <td>2015.0</td>\n",
       "      <td>82</td>\n",
       "    </tr>\n",
       "    <tr>\n",
       "      <th>6</th>\n",
       "      <td>2014.0</td>\n",
       "      <td>24</td>\n",
       "    </tr>\n",
       "    <tr>\n",
       "      <th>3</th>\n",
       "      <td>2011.0</td>\n",
       "      <td>13</td>\n",
       "    </tr>\n",
       "    <tr>\n",
       "      <th>5</th>\n",
       "      <td>2013.0</td>\n",
       "      <td>11</td>\n",
       "    </tr>\n",
       "    <tr>\n",
       "      <th>4</th>\n",
       "      <td>2012.0</td>\n",
       "      <td>3</td>\n",
       "    </tr>\n",
       "    <tr>\n",
       "      <th>0</th>\n",
       "      <td>2008.0</td>\n",
       "      <td>2</td>\n",
       "    </tr>\n",
       "    <tr>\n",
       "      <th>1</th>\n",
       "      <td>2009.0</td>\n",
       "      <td>2</td>\n",
       "    </tr>\n",
       "    <tr>\n",
       "      <th>2</th>\n",
       "      <td>2010.0</td>\n",
       "      <td>1</td>\n",
       "    </tr>\n",
       "  </tbody>\n",
       "</table>\n",
       "</div>"
      ],
      "text/plain": [
       "    date_added_yr  count\n",
       "11         2019.0   2016\n",
       "12         2020.0   1879\n",
       "10         2018.0   1649\n",
       "13         2021.0   1498\n",
       "9          2017.0   1188\n",
       "8          2016.0    429\n",
       "7          2015.0     82\n",
       "6          2014.0     24\n",
       "3          2011.0     13\n",
       "5          2013.0     11\n",
       "4          2012.0      3\n",
       "0          2008.0      2\n",
       "1          2009.0      2\n",
       "2          2010.0      1"
      ]
     },
     "execution_count": 38,
     "metadata": {},
     "output_type": "execute_result"
    }
   ],
   "source": [
    "date_added_yr_summed.sort_values(['count'], ascending = False)"
   ]
  },
  {
   "cell_type": "markdown",
   "id": "9d66ec11",
   "metadata": {},
   "source": [
    "## Task 3 : Independent of year, what is the most popular month to add new content?"
   ]
  },
  {
   "cell_type": "code",
   "execution_count": 47,
   "id": "70dfa5e6",
   "metadata": {},
   "outputs": [],
   "source": [
    "df['date_month'] = df['new_date'].dt.month\n",
    "df['date_month_str'] = df['new_date'].dt.strftime('%b')\n",
    "df = df.drop(['date_month', 'date_month_str'], axis=1)\n"
   ]
  },
  {
   "cell_type": "code",
   "execution_count": 46,
   "id": "27516793",
   "metadata": {},
   "outputs": [
    {
     "data": {
      "text/html": [
       "<div>\n",
       "<style scoped>\n",
       "    .dataframe tbody tr th:only-of-type {\n",
       "        vertical-align: middle;\n",
       "    }\n",
       "\n",
       "    .dataframe tbody tr th {\n",
       "        vertical-align: top;\n",
       "    }\n",
       "\n",
       "    .dataframe thead th {\n",
       "        text-align: right;\n",
       "    }\n",
       "</style>\n",
       "<table border=\"1\" class=\"dataframe\">\n",
       "  <thead>\n",
       "    <tr style=\"text-align: right;\">\n",
       "      <th></th>\n",
       "      <th>show_id</th>\n",
       "      <th>type</th>\n",
       "      <th>title</th>\n",
       "      <th>director</th>\n",
       "      <th>cast</th>\n",
       "      <th>country</th>\n",
       "      <th>date_added</th>\n",
       "      <th>release_year</th>\n",
       "      <th>rating</th>\n",
       "      <th>duration</th>\n",
       "      <th>listed_in</th>\n",
       "      <th>description</th>\n",
       "      <th>new_date</th>\n",
       "      <th>date_added_yr</th>\n",
       "      <th>count</th>\n",
       "      <th>month</th>\n",
       "    </tr>\n",
       "  </thead>\n",
       "  <tbody>\n",
       "    <tr>\n",
       "      <th>0</th>\n",
       "      <td>s1</td>\n",
       "      <td>Movie</td>\n",
       "      <td>Dick Johnson Is Dead</td>\n",
       "      <td>Kirsten Johnson</td>\n",
       "      <td>NaN</td>\n",
       "      <td>United States</td>\n",
       "      <td>September 25, 2021</td>\n",
       "      <td>2020</td>\n",
       "      <td>PG-13</td>\n",
       "      <td>90 min</td>\n",
       "      <td>Documentaries</td>\n",
       "      <td>As her father nears the end of his life, filmm...</td>\n",
       "      <td>2021-09-25</td>\n",
       "      <td>2021.0</td>\n",
       "      <td>1</td>\n",
       "      <td>Sep</td>\n",
       "    </tr>\n",
       "    <tr>\n",
       "      <th>1</th>\n",
       "      <td>s2</td>\n",
       "      <td>TV Show</td>\n",
       "      <td>Blood &amp; Water</td>\n",
       "      <td>NaN</td>\n",
       "      <td>Ama Qamata, Khosi Ngema, Gail Mabalane, Thaban...</td>\n",
       "      <td>South Africa</td>\n",
       "      <td>September 24, 2021</td>\n",
       "      <td>2021</td>\n",
       "      <td>TV-MA</td>\n",
       "      <td>2 Seasons</td>\n",
       "      <td>International TV Shows, TV Dramas, TV Mysteries</td>\n",
       "      <td>After crossing paths at a party, a Cape Town t...</td>\n",
       "      <td>2021-09-24</td>\n",
       "      <td>2021.0</td>\n",
       "      <td>1</td>\n",
       "      <td>Sep</td>\n",
       "    </tr>\n",
       "    <tr>\n",
       "      <th>2</th>\n",
       "      <td>s3</td>\n",
       "      <td>TV Show</td>\n",
       "      <td>Ganglands</td>\n",
       "      <td>Julien Leclercq</td>\n",
       "      <td>Sami Bouajila, Tracy Gotoas, Samuel Jouy, Nabi...</td>\n",
       "      <td>NaN</td>\n",
       "      <td>September 24, 2021</td>\n",
       "      <td>2021</td>\n",
       "      <td>TV-MA</td>\n",
       "      <td>1 Season</td>\n",
       "      <td>Crime TV Shows, International TV Shows, TV Act...</td>\n",
       "      <td>To protect his family from a powerful drug lor...</td>\n",
       "      <td>2021-09-24</td>\n",
       "      <td>2021.0</td>\n",
       "      <td>1</td>\n",
       "      <td>Sep</td>\n",
       "    </tr>\n",
       "    <tr>\n",
       "      <th>3</th>\n",
       "      <td>s4</td>\n",
       "      <td>TV Show</td>\n",
       "      <td>Jailbirds New Orleans</td>\n",
       "      <td>NaN</td>\n",
       "      <td>NaN</td>\n",
       "      <td>NaN</td>\n",
       "      <td>September 24, 2021</td>\n",
       "      <td>2021</td>\n",
       "      <td>TV-MA</td>\n",
       "      <td>1 Season</td>\n",
       "      <td>Docuseries, Reality TV</td>\n",
       "      <td>Feuds, flirtations and toilet talk go down amo...</td>\n",
       "      <td>2021-09-24</td>\n",
       "      <td>2021.0</td>\n",
       "      <td>1</td>\n",
       "      <td>Sep</td>\n",
       "    </tr>\n",
       "    <tr>\n",
       "      <th>4</th>\n",
       "      <td>s5</td>\n",
       "      <td>TV Show</td>\n",
       "      <td>Kota Factory</td>\n",
       "      <td>NaN</td>\n",
       "      <td>Mayur More, Jitendra Kumar, Ranjan Raj, Alam K...</td>\n",
       "      <td>India</td>\n",
       "      <td>September 24, 2021</td>\n",
       "      <td>2021</td>\n",
       "      <td>TV-MA</td>\n",
       "      <td>2 Seasons</td>\n",
       "      <td>International TV Shows, Romantic TV Shows, TV ...</td>\n",
       "      <td>In a city of coaching centers known to train I...</td>\n",
       "      <td>2021-09-24</td>\n",
       "      <td>2021.0</td>\n",
       "      <td>1</td>\n",
       "      <td>Sep</td>\n",
       "    </tr>\n",
       "  </tbody>\n",
       "</table>\n",
       "</div>"
      ],
      "text/plain": [
       "  show_id     type                  title         director  \\\n",
       "0      s1    Movie   Dick Johnson Is Dead  Kirsten Johnson   \n",
       "1      s2  TV Show          Blood & Water              NaN   \n",
       "2      s3  TV Show              Ganglands  Julien Leclercq   \n",
       "3      s4  TV Show  Jailbirds New Orleans              NaN   \n",
       "4      s5  TV Show           Kota Factory              NaN   \n",
       "\n",
       "                                                cast        country  \\\n",
       "0                                                NaN  United States   \n",
       "1  Ama Qamata, Khosi Ngema, Gail Mabalane, Thaban...   South Africa   \n",
       "2  Sami Bouajila, Tracy Gotoas, Samuel Jouy, Nabi...            NaN   \n",
       "3                                                NaN            NaN   \n",
       "4  Mayur More, Jitendra Kumar, Ranjan Raj, Alam K...          India   \n",
       "\n",
       "           date_added  release_year rating   duration  \\\n",
       "0  September 25, 2021          2020  PG-13     90 min   \n",
       "1  September 24, 2021          2021  TV-MA  2 Seasons   \n",
       "2  September 24, 2021          2021  TV-MA   1 Season   \n",
       "3  September 24, 2021          2021  TV-MA   1 Season   \n",
       "4  September 24, 2021          2021  TV-MA  2 Seasons   \n",
       "\n",
       "                                           listed_in  \\\n",
       "0                                      Documentaries   \n",
       "1    International TV Shows, TV Dramas, TV Mysteries   \n",
       "2  Crime TV Shows, International TV Shows, TV Act...   \n",
       "3                             Docuseries, Reality TV   \n",
       "4  International TV Shows, Romantic TV Shows, TV ...   \n",
       "\n",
       "                                         description   new_date  \\\n",
       "0  As her father nears the end of his life, filmm... 2021-09-25   \n",
       "1  After crossing paths at a party, a Cape Town t... 2021-09-24   \n",
       "2  To protect his family from a powerful drug lor... 2021-09-24   \n",
       "3  Feuds, flirtations and toilet talk go down amo... 2021-09-24   \n",
       "4  In a city of coaching centers known to train I... 2021-09-24   \n",
       "\n",
       "   date_added_yr  count month  \n",
       "0         2021.0      1   Sep  \n",
       "1         2021.0      1   Sep  \n",
       "2         2021.0      1   Sep  \n",
       "3         2021.0      1   Sep  \n",
       "4         2021.0      1   Sep  "
      ]
     },
     "execution_count": 46,
     "metadata": {},
     "output_type": "execute_result"
    }
   ],
   "source": [
    "df.head()"
   ]
  },
  {
   "cell_type": "code",
   "execution_count": 48,
   "id": "6a06c56b",
   "metadata": {},
   "outputs": [],
   "source": [
    "date_added_Month_summed = df.groupby(['month']).sum().reset_index()[['month','count']]"
   ]
  },
  {
   "cell_type": "code",
   "execution_count": 49,
   "id": "b6aa9955",
   "metadata": {
    "scrolled": true
   },
   "outputs": [
    {
     "data": {
      "text/html": [
       "<div>\n",
       "<style scoped>\n",
       "    .dataframe tbody tr th:only-of-type {\n",
       "        vertical-align: middle;\n",
       "    }\n",
       "\n",
       "    .dataframe tbody tr th {\n",
       "        vertical-align: top;\n",
       "    }\n",
       "\n",
       "    .dataframe thead th {\n",
       "        text-align: right;\n",
       "    }\n",
       "</style>\n",
       "<table border=\"1\" class=\"dataframe\">\n",
       "  <thead>\n",
       "    <tr style=\"text-align: right;\">\n",
       "      <th></th>\n",
       "      <th>month</th>\n",
       "      <th>count</th>\n",
       "    </tr>\n",
       "  </thead>\n",
       "  <tbody>\n",
       "    <tr>\n",
       "      <th>5</th>\n",
       "      <td>Jul</td>\n",
       "      <td>827</td>\n",
       "    </tr>\n",
       "    <tr>\n",
       "      <th>2</th>\n",
       "      <td>Dec</td>\n",
       "      <td>813</td>\n",
       "    </tr>\n",
       "    <tr>\n",
       "      <th>11</th>\n",
       "      <td>Sep</td>\n",
       "      <td>770</td>\n",
       "    </tr>\n",
       "    <tr>\n",
       "      <th>0</th>\n",
       "      <td>Apr</td>\n",
       "      <td>764</td>\n",
       "    </tr>\n",
       "    <tr>\n",
       "      <th>10</th>\n",
       "      <td>Oct</td>\n",
       "      <td>760</td>\n",
       "    </tr>\n",
       "    <tr>\n",
       "      <th>1</th>\n",
       "      <td>Aug</td>\n",
       "      <td>755</td>\n",
       "    </tr>\n",
       "    <tr>\n",
       "      <th>7</th>\n",
       "      <td>Mar</td>\n",
       "      <td>742</td>\n",
       "    </tr>\n",
       "    <tr>\n",
       "      <th>4</th>\n",
       "      <td>Jan</td>\n",
       "      <td>738</td>\n",
       "    </tr>\n",
       "    <tr>\n",
       "      <th>6</th>\n",
       "      <td>Jun</td>\n",
       "      <td>728</td>\n",
       "    </tr>\n",
       "    <tr>\n",
       "      <th>9</th>\n",
       "      <td>Nov</td>\n",
       "      <td>705</td>\n",
       "    </tr>\n",
       "    <tr>\n",
       "      <th>8</th>\n",
       "      <td>May</td>\n",
       "      <td>632</td>\n",
       "    </tr>\n",
       "    <tr>\n",
       "      <th>3</th>\n",
       "      <td>Feb</td>\n",
       "      <td>563</td>\n",
       "    </tr>\n",
       "  </tbody>\n",
       "</table>\n",
       "</div>"
      ],
      "text/plain": [
       "   month  count\n",
       "5    Jul    827\n",
       "2    Dec    813\n",
       "11   Sep    770\n",
       "0    Apr    764\n",
       "10   Oct    760\n",
       "1    Aug    755\n",
       "7    Mar    742\n",
       "4    Jan    738\n",
       "6    Jun    728\n",
       "9    Nov    705\n",
       "8    May    632\n",
       "3    Feb    563"
      ]
     },
     "execution_count": 49,
     "metadata": {},
     "output_type": "execute_result"
    }
   ],
   "source": [
    "date_added_Month_summed.sort_values(['count'], ascending = False)"
   ]
  },
  {
   "cell_type": "code",
   "execution_count": 98,
   "id": "94789afb",
   "metadata": {},
   "outputs": [
    {
     "data": {
      "image/png": "[encoded data removed]",
      "text/plain": [
       "<Figure size 864x432 with 1 Axes>"
      ]
     },
     "metadata": {
      "needs_background": "light"
     },
     "output_type": "display_data"
    }
   ],
   "source": [
    "plt.figure(figsize=(12, 6))\n",
    "plt.bar(date_added_Month_summed['month'], date_added_Month_summed['count'], color='skyblue')\n",
    "plt.title('Sum of Counts by Month')\n",
    "plt.xlabel('Month')\n",
    "plt.ylabel('Sum of Counts')\n",
    "plt.show()"
   ]
  },
  {
   "cell_type": "markdown",
   "id": "e4875b42",
   "metadata": {},
   "source": [
    "## Task 4 : What is the movie with longest title?"
   ]
  },
  {
   "cell_type": "code",
   "execution_count": 51,
   "id": "7c0c96e7",
   "metadata": {},
   "outputs": [],
   "source": [
    "df.head()\n",
    "movie_df = df[df['type'] == 'Movie']"
   ]
  },
  {
   "cell_type": "code",
   "execution_count": 52,
   "id": "533ce7df",
   "metadata": {},
   "outputs": [
    {
     "name": "stderr",
     "output_type": "stream",
     "text": [
      "<ipython-input-52-ac2279b537a4>:1: SettingWithCopyWarning: \n",
      "A value is trying to be set on a copy of a slice from a DataFrame.\n",
      "Try using .loc[row_indexer,col_indexer] = value instead\n",
      "\n",
      "See the caveats in the documentation: https://pandas.pydata.org/pandas-docs/stable/user_guide/indexing.html#returning-a-view-versus-a-copy\n",
      "  movie_df['title_len'] = [len(title) for title in movie_df['title']]\n"
     ]
    }
   ],
   "source": [
    "movie_df['title_len'] = [len(title) for title in movie_df['title']]"
   ]
  },
  {
   "cell_type": "code",
   "execution_count": 54,
   "id": "38b43d89",
   "metadata": {},
   "outputs": [
    {
     "data": {
      "text/plain": [
       "'Jim & Andy: The Great Beyond - Featuring a Very Special, Contractually Obligated Mention of Tony Clifton'"
      ]
     },
     "execution_count": 54,
     "metadata": {},
     "output_type": "execute_result"
    }
   ],
   "source": [
    "top_title_len = movie_df.sort_values(['title_len'], ascending = False)\n",
    "top_title_len.iloc[0]['title']"
   ]
  },
  {
   "cell_type": "markdown",
   "id": "47b4f017",
   "metadata": {},
   "source": [
    "## Task 5 : Most frequent actor/actoress in Netflix"
   ]
  },
  {
   "cell_type": "code",
   "execution_count": 55,
   "id": "643baf80",
   "metadata": {},
   "outputs": [],
   "source": [
    "title_cast_df = df[['title', 'cast']]"
   ]
  },
  {
   "cell_type": "code",
   "execution_count": 179,
   "id": "939a4b73",
   "metadata": {},
   "outputs": [
    {
     "name": "stdout",
     "output_type": "stream",
     "text": [
      "anupam kher: 43\n",
      "shah rukh khan: 35\n",
      "julie tejwani: 33\n",
      "naseeruddin shah: 32\n",
      "takahiro sakurai: 32\n",
      "rupa bhimani: 31\n",
      "akshay kumar: 30\n",
      "om puri: 30\n",
      "yuki kaji: 29\n",
      "amitabh bachchan: 28\n"
     ]
    }
   ],
   "source": [
    "cast_name_counter = {}\n",
    "\n",
    "for index, row in title_cast_df.iterrows():\n",
    "    movie_cast = row['cast']\n",
    "    \n",
    "    if isinstance(movie_cast, str):\n",
    "        movie_cast_split = movie_cast.split(',')\n",
    "        movie_cast_stripped = [name.strip().lower() for name in movie_cast_split]\n",
    "        for name in movie_cast_stripped:\n",
    "            cast_name_counter[name] = cast_name_counter.get(name, 0) + 1\n",
    "    \n",
    "sorted_cast_names = dict(sorted(cast_name_counter.items(), key=lambda item: item[1], reverse = True))\n",
    "\n",
    "top_10_names = list(sorted_cast_names.items())[:10]\n",
    "for name, count in top_10_names:\n",
    "    print(f'{name}: {count}')"
   ]
  },
  {
   "cell_type": "markdown",
   "id": "9686af4f",
   "metadata": {},
   "source": [
    "## Task 6 : How many movies are there compared to TV shows?"
   ]
  },
  {
   "cell_type": "code",
   "execution_count": 80,
   "id": "8eb184ba",
   "metadata": {},
   "outputs": [
    {
     "data": {
      "text/html": [
       "<div>\n",
       "<style scoped>\n",
       "    .dataframe tbody tr th:only-of-type {\n",
       "        vertical-align: middle;\n",
       "    }\n",
       "\n",
       "    .dataframe tbody tr th {\n",
       "        vertical-align: top;\n",
       "    }\n",
       "\n",
       "    .dataframe thead th {\n",
       "        text-align: right;\n",
       "    }\n",
       "</style>\n",
       "<table border=\"1\" class=\"dataframe\">\n",
       "  <thead>\n",
       "    <tr style=\"text-align: right;\">\n",
       "      <th>type</th>\n",
       "      <th>Movie</th>\n",
       "      <th>TV Show</th>\n",
       "    </tr>\n",
       "    <tr>\n",
       "      <th>month</th>\n",
       "      <th></th>\n",
       "      <th></th>\n",
       "    </tr>\n",
       "  </thead>\n",
       "  <tbody>\n",
       "    <tr>\n",
       "      <th>Apr</th>\n",
       "      <td>550</td>\n",
       "      <td>214</td>\n",
       "    </tr>\n",
       "    <tr>\n",
       "      <th>Aug</th>\n",
       "      <td>519</td>\n",
       "      <td>236</td>\n",
       "    </tr>\n",
       "    <tr>\n",
       "      <th>Dec</th>\n",
       "      <td>547</td>\n",
       "      <td>266</td>\n",
       "    </tr>\n",
       "    <tr>\n",
       "      <th>Feb</th>\n",
       "      <td>382</td>\n",
       "      <td>181</td>\n",
       "    </tr>\n",
       "    <tr>\n",
       "      <th>Jan</th>\n",
       "      <td>546</td>\n",
       "      <td>192</td>\n",
       "    </tr>\n",
       "    <tr>\n",
       "      <th>Jul</th>\n",
       "      <td>565</td>\n",
       "      <td>262</td>\n",
       "    </tr>\n",
       "    <tr>\n",
       "      <th>Jun</th>\n",
       "      <td>492</td>\n",
       "      <td>236</td>\n",
       "    </tr>\n",
       "    <tr>\n",
       "      <th>Mar</th>\n",
       "      <td>529</td>\n",
       "      <td>213</td>\n",
       "    </tr>\n",
       "    <tr>\n",
       "      <th>May</th>\n",
       "      <td>439</td>\n",
       "      <td>193</td>\n",
       "    </tr>\n",
       "    <tr>\n",
       "      <th>Nov</th>\n",
       "      <td>498</td>\n",
       "      <td>207</td>\n",
       "    </tr>\n",
       "    <tr>\n",
       "      <th>Oct</th>\n",
       "      <td>545</td>\n",
       "      <td>215</td>\n",
       "    </tr>\n",
       "    <tr>\n",
       "      <th>Sep</th>\n",
       "      <td>519</td>\n",
       "      <td>251</td>\n",
       "    </tr>\n",
       "  </tbody>\n",
       "</table>\n",
       "</div>"
      ],
      "text/plain": [
       "type   Movie  TV Show\n",
       "month                \n",
       "Apr      550      214\n",
       "Aug      519      236\n",
       "Dec      547      266\n",
       "Feb      382      181\n",
       "Jan      546      192\n",
       "Jul      565      262\n",
       "Jun      492      236\n",
       "Mar      529      213\n",
       "May      439      193\n",
       "Nov      498      207\n",
       "Oct      545      215\n",
       "Sep      519      251"
      ]
     },
     "execution_count": 80,
     "metadata": {},
     "output_type": "execute_result"
    }
   ],
   "source": [
    "monthly_type_distribution = df.groupby(['month', 'type']).size().unstack(fill_value=0)\n",
    "monthly_type_distribution "
   ]
  },
  {
   "cell_type": "code",
   "execution_count": 122,
   "id": "bcfbdb0d",
   "metadata": {},
   "outputs": [
    {
     "data": {
      "image/png": "[encoded data removed]",
      "text/plain": [
       "<Figure size 864x432 with 1 Axes>"
      ]
     },
     "metadata": {
      "needs_background": "light"
     },
     "output_type": "display_data"
    }
   ],
   "source": [
    "monthly_type_distribution.plot(kind='bar', figsize=(12, 6), width=0.4, position=1)\n",
    "\n",
    "plt.title('Monthly Distribution of Content Types on Netflix')\n",
    "plt.xlabel('Month')\n",
    "plt.ylabel('Number of Shows/Movies')\n",
    "plt.legend(title='Content Type', loc='upper right')\n",
    "plt.show()"
   ]
  },
  {
   "cell_type": "markdown",
   "id": "69543299",
   "metadata": {},
   "source": [
    "## Task 7 : Which countries contribute the most content to Netflix?"
   ]
  },
  {
   "cell_type": "code",
   "execution_count": 128,
   "id": "40909f23",
   "metadata": {},
   "outputs": [
    {
     "data": {
      "text/plain": [
       "United States     2818\n",
       "India              972\n",
       "United Kingdom     419\n",
       "Japan              245\n",
       "South Korea        199\n",
       "Canada             181\n",
       "Spain              145\n",
       "France             124\n",
       "Mexico             110\n",
       "Egypt              106\n",
       "Name: country, dtype: int64"
      ]
     },
     "execution_count": 128,
     "metadata": {},
     "output_type": "execute_result"
    }
   ],
   "source": [
    "df_cleaned = df.dropna(subset=['country'])\n",
    "country_counts = df_cleaned['country'].value_counts()\n",
    "\n",
    "country_counts.head(10)"
   ]
  },
  {
   "cell_type": "code",
   "execution_count": 129,
   "id": "f9e7756a",
   "metadata": {},
   "outputs": [
    {
     "data": {
      "image/png": "[encoded data removed]",
      "text/plain": [
       "<Figure size 864x432 with 1 Axes>"
      ]
     },
     "metadata": {
      "needs_background": "light"
     },
     "output_type": "display_data"
    }
   ],
   "source": [
    "plt.figure(figsize=(12, 6))\n",
    "top_countries.plot(kind='bar')\n",
    "plt.title('Top 10 Countries Contributing Content to Netflix')\n",
    "plt.xlabel('Country')\n",
    "plt.ylabel('Number of Titles')\n",
    "plt.show()"
   ]
  },
  {
   "cell_type": "markdown",
   "id": "48f103f5",
   "metadata": {},
   "source": [
    "## Task 8 :  Which genres are more prevalent on Netflix?"
   ]
  },
  {
   "cell_type": "code",
   "execution_count": 138,
   "id": "b17013a1",
   "metadata": {},
   "outputs": [
    {
     "data": {
      "text/plain": [
       "International Movies        2752\n",
       "Dramas                      2427\n",
       "Comedies                    1674\n",
       "International TV Shows      1351\n",
       "Documentaries                869\n",
       "Action & Adventure           859\n",
       "TV Dramas                    763\n",
       "Independent Movies           756\n",
       "Children & Family Movies     641\n",
       "Romantic Movies              616\n",
       "dtype: int64"
      ]
     },
     "execution_count": 138,
     "metadata": {},
     "output_type": "execute_result"
    }
   ],
   "source": [
    "df_cleaned = df.dropna(subset=['listed_in'])\n",
    "\n",
    "\n",
    "df_cleaned['genres'] = df_cleaned['listed_in'].str.split(', ')\n",
    "all_genres = [genre for sublist in df_cleaned['genres'].dropna() for genre in sublist]\n",
    "\n",
    "genre_counts = pd.Series(all_genres).value_counts()\n",
    "genre_counts.head(10)"
   ]
  },
  {
   "cell_type": "code",
   "execution_count": 168,
   "id": "e36b85e1",
   "metadata": {},
   "outputs": [
    {
     "data": {
      "image/png": "[encoded data removed]",
      "text/plain": [
       "<Figure size 432x432 with 1 Axes>"
      ]
     },
     "metadata": {},
     "output_type": "display_data"
    }
   ],
   "source": [
    "plt.figure(figsize=(6, 6))\n",
    "top_genres.plot(kind='pie', autopct='%1.1f%%', startangle=90, fontsize=8, legend = None)\n",
    "plt.title('Top 10 Prevalent Genres on Netflix')\n",
    "plt.ylabel('Genre')\n",
    "plt.show()"
   ]
  }
 ],
 "metadata": {
  "kernelspec": {
   "display_name": "Python 3",
   "language": "python",
   "name": "python3"
  },
  "language_info": {
   "codemirror_mode": {
    "name": "ipython",
    "version": 3
   },
   "file_extension": ".py",
   "mimetype": "text/x-python",
   "name": "python",
   "nbconvert_exporter": "python",
   "pygments_lexer": "ipython3",
   "version": "3.8.8"
  }
 },
 "nbformat": 4,
 "nbformat_minor": 5
}
